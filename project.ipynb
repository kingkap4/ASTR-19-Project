{
 "cells": [
  {
   "cell_type": "markdown",
   "id": "e6464866-f7c2-4220-9efd-6ee813d86f05",
   "metadata": {},
   "source": [
    "# Tidal Project"
   ]
  },
  {
   "cell_type": "code",
   "execution_count": 1,
   "id": "696abb5f-40af-4f40-b10b-24f10f708744",
   "metadata": {},
   "outputs": [],
   "source": [
    "#code"
   ]
  },
  {
   "cell_type": "code",
   "execution_count": null,
   "id": "0ce665d1-989a-4be5-b340-8d15d9cc514a",
   "metadata": {},
   "outputs": [],
   "source": []
  }
 ],
 "metadata": {
  "kernelspec": {
   "display_name": "Python 3 (ipykernel)",
   "language": "python",
   "name": "python3"
  },
  "language_info": {
   "codemirror_mode": {
    "name": "ipython",
    "version": 3
   },
   "file_extension": ".py",
   "mimetype": "text/x-python",
   "name": "python",
   "nbconvert_exporter": "python",
   "pygments_lexer": "ipython3",
   "version": "3.11.5"
  }
 },
 "nbformat": 4,
 "nbformat_minor": 5
}
