{
 "cells": [
  {
   "cell_type": "markdown",
   "id": "e6464866-f7c2-4220-9efd-6ee813d86f05",
   "metadata": {},
   "source": [
    "# Tidal Project"
   ]
  },
  {
   "cell_type": "code",
   "execution_count": 49,
   "id": "696abb5f-40af-4f40-b10b-24f10f708744",
   "metadata": {},
   "outputs": [],
   "source": [
    "import numpy as np\n",
    "import matplotlib.pyplot as plt\n",
    "from scipy import optimize"
   ]
  },
  {
   "cell_type": "code",
   "execution_count": null,
   "id": "0ce665d1-989a-4be5-b340-8d15d9cc514a",
   "metadata": {},
   "outputs": [],
   "source": [
    "fname = 'Downloads/ASTR19_S22_group_project_data.txt'\n",
    "#open the file with read mode\n",
    "f = open(fname,'r')\n",
    "\n",
    "#print the name of the file\n",
    "print(f.name)\n",
    "#read the data as a string\n",
    "test_data = f.read()\n",
    "#print the info from the file\n",
    "print(test_data)"
   ]
  },
  {
   "cell_type": "code",
   "execution_count": 63,
   "id": "fcec306c-9162-4763-bfc0-5eb899c73d61",
   "metadata": {},
   "outputs": [
    {
     "data": {
      "text/plain": [
       "<matplotlib.legend.Legend at 0x11f03dc90>"
      ]
     },
     "execution_count": 63,
     "metadata": {},
     "output_type": "execute_result"
    },
    {
     "data": {
      "image/png": "[encoded data removed]",
      "text/plain": [
       "<Figure size 1000x500 with 1 Axes>"
      ]
     },
     "metadata": {},
     "output_type": "display_data"
    }
   ],
   "source": [
    "  \n",
    "#define the filename\n",
    "fname = 'Downloads/ASTR19_S22_group_project_data.txt'\n",
    "#open the file with numpy loadtxt\n",
    "\n",
    "test_data = np.loadtxt(fname, dtype={'names': ('day', 'time', 'height'),'formats': ('i4', 'S5', 'f4')})\n",
    "#print the info from the file\n",
    "#print(test_data)\n",
    "\n",
    "plt.style.use(\"Downloads/astr19_matplotlib_defaults.txt\")\n",
    "f=plt.figure(figsize=(10,5))\n",
    "ax = plt.subplot\n",
    "plt.xlabel('Time (days)')\n",
    "plt.ylabel('Height of wave (ft)')\n",
    "\n",
    "\n",
    "result_x = []\n",
    "result_y = []\n",
    "for item in test_data:\n",
    "    day = item [0]\n",
    "    time = item [1].decode()\n",
    "    height = item [2]\n",
    "    Day = (day)\n",
    "    TimeParts = time.split(\":\")\n",
    "    daysfromhour = int(TimeParts[0])/24\n",
    "    daysfromminutes = int(TimeParts[1])/60/24\n",
    "    timeindays = day + daysfromhour + daysfromminutes\n",
    "    #print (\"(\"+ str(totalMinutes) +\",\" + str(height)+\")\")\n",
    "    x= timeindays\n",
    "    y= height\n",
    "    result_x.append(x)\n",
    "    result_y.append(y)\n",
    "    plt.scatter(x,y)\n",
    "\n",
    "\n",
    "#curve fitting?\n",
    "\n",
    "#define the function to fit\n",
    "def f_line(x, a, b, c, d):\n",
    "    return a * np.sin(b*x + c) + d\n",
    "\n",
    "#perform the fit\n",
    "params, params_cov = optimize.curve_fit(f_line, result_x, result_y, p0=[5, 2, 1, 4])\n",
    "\n",
    "\n",
    "a_fit = params[0]\n",
    "b_fit = params[1]\n",
    "c_fit = params[2]\n",
    "d_fit = params[3]\n",
    "\n",
    "#print(a_fit, b_fit, c_fit, d_fit)\n",
    "\n",
    "y_fit = a_fit * np.sin(b_fit*x + c_fit) + d_fit\n",
    "\n",
    "#plot the fit\n",
    "\n",
    "#f = plt.figure(figsize=(7,7))\n",
    "plt.errorbar(x, y, fmt='o', label='data')\n",
    "plt.plot(x, y_fit, label='fit')\n",
    "plt.xlabel('x')\n",
    "plt.ylabel('y')\n",
    "plt.legend(loc=0, frameon=False)"
   ]
  },
  {
   "cell_type": "markdown",
   "id": "117e05ca-8096-4584-b81a-7f8b3337aa0c",
   "metadata": {},
   "source": [
    "ignore this\n",
    "\n",
    "def test_func(x, a, b, c, d):\n",
    "    return a * np.sin(b*x + c) + d\n",
    "\n",
    "params, params_cov = optimize.curve_fit(test_func, result_x, result_y, p0=[5, 2, 1, 4])\n",
    "\n",
    "#print(params)\n",
    "\n",
    "plt.figure(figsize=(6, 4))\n",
    "plt.scatter(result_x, result_y, label='Data')\n",
    "plt.plot(result_x, test_func(result_x, params[0], params[1], params[2], params[3]),label='Fitted function')\n",
    "\n",
    "plt.legend(loc='best')\n",
    "\n",
    "plt.show()"
   ]
  },
  {
   "cell_type": "markdown",
   "id": "b9be0acb-7544-4d8f-ba50-a359d61b524e",
   "metadata": {},
   "source": [
    "ignore this\n",
    "\n",
    "#curve fitting?\n",
    "\n",
    "#define the function to fit\n",
    "def f_line(x, a, b, c, d):\n",
    "    return a * np.sin(b*x + c) + d\n",
    "\n",
    "#perform the fit\n",
    "params, params_cov = optimize.curve_fit(f_line, result_x, result_y, p0=[5, 2, 1, 4])\n",
    "\n",
    "\n",
    "a_fit = params[0]\n",
    "b_fit = params[1]\n",
    "c_fit = params[2]\n",
    "d_fit = params[3]\n",
    "\n",
    "#print(a_fit, b_fit, c_fit, d_fit)\n",
    "\n",
    "y_fit = a_fit * np.sin(b_fit*x + c_fit) + d_fit\n",
    "\n",
    "#plot the fit\n",
    "\n",
    "f = plt.figure(figsize=(7,7))\n",
    "plt.errorbar(x, y, fmt='o', label='data')\n",
    "plt.plot(x, y_fit, label='fit')\n",
    "plt.xlabel('x')\n",
    "plt.ylabel('y')\n",
    "plt.legend(loc=0, frameon=False)"
   ]
  },
  {
   "cell_type": "code",
   "execution_count": null,
   "id": "c6b520ca-2f32-4d34-a6b6-baf41a5cb674",
   "metadata": {},
   "outputs": [],
   "source": []
  }
 ],
 "metadata": {
  "kernelspec": {
   "display_name": "Python 3 (ipykernel)",
   "language": "python",
   "name": "python3"
  },
  "language_info": {
   "codemirror_mode": {
    "name": "ipython",
    "version": 3
   },
   "file_extension": ".py",
   "mimetype": "text/x-python",
   "name": "python",
   "nbconvert_exporter": "python",
   "pygments_lexer": "ipython3",
   "version": "3.11.5"
  }
 },
 "nbformat": 4,
 "nbformat_minor": 5
}
